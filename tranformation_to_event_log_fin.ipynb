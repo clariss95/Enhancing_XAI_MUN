{
 "cells": [
  {
   "cell_type": "code",
   "execution_count": null,
   "id": "beb11bd2-5be4-414b-ae96-e698dbb33a43",
   "metadata": {},
   "outputs": [],
   "source": [
    "import pandas as pd\n",
    "import matplotlib.pyplot as plt\n",
    "import numpy as np"
   ]
  },
  {
   "cell_type": "code",
   "execution_count": null,
   "id": "a8b25090-420c-444f-a48b-ed562b751c17",
   "metadata": {
    "scrolled": true
   },
   "outputs": [],
   "source": [
    "#loading and observing the data\n",
    "file_path = '20231204_UpdatedData\\INC10447_ED_VISITS_20231201.xlsx'\n",
    "\n",
    "df_visits = pd.read_excel(file_path)\n",
    "\n",
    "df_visits.head()"
   ]
  },
  {
   "cell_type": "code",
   "execution_count": null,
   "id": "043cd086-09e2-43fa-a522-55435e54d15a",
   "metadata": {},
   "outputs": [],
   "source": [
    "# checking the columns and their data types\n",
    "\n",
    "# missing values in this case indicate that the patient did not go through the given stage\n",
    "df_visits.info()"
   ]
  },
  {
   "cell_type": "code",
   "execution_count": null,
   "id": "dac28717-ed58-4ef1-b0b6-6c2f0d2816a3",
   "metadata": {},
   "outputs": [],
   "source": [
    "df_visits.describe()"
   ]
  },
  {
   "cell_type": "code",
   "execution_count": null,
   "id": "afe70d2c-0ad5-40ee-9d1f-fa15bc788a48",
   "metadata": {},
   "outputs": [],
   "source": [
    "# mean age of patient's who died = 74.284919\t\n",
    "df_with_dod = df_visits[df_visits['DOD'].notnull()]\n",
    "df_with_dod.describe()"
   ]
  },
  {
   "cell_type": "code",
   "execution_count": null,
   "id": "391baf56-cba1-44cb-82f7-8dacbc7f20ba",
   "metadata": {},
   "outputs": [],
   "source": [
    "df_visits.head()"
   ]
  },
  {
   "cell_type": "code",
   "execution_count": null,
   "id": "60d33e75-293e-4b03-82bb-4cc4f9ff528e",
   "metadata": {},
   "outputs": [],
   "source": [
    "\n",
    "gender_count = df_visits['SEX'].value_counts()\n",
    "\n",
    "gender_count"
   ]
  },
  {
   "cell_type": "code",
   "execution_count": null,
   "id": "33dd1190-d5bb-4f16-af2c-1ef2009a54cc",
   "metadata": {},
   "outputs": [],
   "source": [
    "\n",
    "\n",
    "# Count the number of rows for each clinic\n",
    "clinic_row_counts = df_visits['FACILITY_NAME'].value_counts()\n",
    "\n",
    "clinic_row_counts"
   ]
  },
  {
   "cell_type": "code",
   "execution_count": null,
   "id": "d920ddd0-9f52-4f73-8608-9d6fe2a8543b",
   "metadata": {},
   "outputs": [],
   "source": [
    "\n",
    "# Count the occurrences of each CTAS level\n",
    "ctas_counts = df_visits['CTAS'].value_counts()\n",
    "\n",
    "ctas_counts "
   ]
  },
  {
   "cell_type": "code",
   "execution_count": null,
   "id": "24283ffe-2988-4cf5-9e07-1257a482c4e0",
   "metadata": {},
   "outputs": [],
   "source": [
    "# Count the occurrences of each depart dispositio\n",
    "disposition_counts = df_visits['DEPART_DISPOSITION_DESC'].value_counts()\n",
    "\n",
    "disposition_counts"
   ]
  },
  {
   "cell_type": "code",
   "execution_count": null,
   "id": "05f1402b-a96a-4ce5-b431-561d58f52fc5",
   "metadata": {},
   "outputs": [],
   "source": [
    "# List of column pairs to combine\n",
    "column_pairs = [\n",
    "    ('ED_SERVICE_DATE', 'ED_SERVICE_TIME'),\n",
    "    ('ED_TRIAGE_DATE', 'ED_TRIAGE_TIME'),\n",
    "    ('ED_ADMIT_DATE', 'ED_ADMIT_TIME'),\n",
    "    ('ED_DISCHARGE_DATE', 'ED_DISCHARGE_TIME'),\n",
    "    ('ED_ASSESSMENT_DATE', 'ED_ASSESSMENT_TIME'),\n",
    "    ('ED_ADMIT_DECISION_DATE', 'ED_ADMIT_DECISION_TIME'),\n",
    "    ('ED_DEPART_DATE', 'ED_DEPART_TIME')\n",
    "]\n",
    "\n",
    "for date_col, time_col in column_pairs:\n",
    "    # Convert date column to string format\n",
    "    df_visits[date_col + '_str'] = df_visits[date_col].dt.strftime('%Y-%m-%d')\n",
    "    \n",
    "    # Attempt to convert time column to datetime format, then to string. 'Coerce' turns errors into NaT.\n",
    "    df_visits[time_col + '_str'] = pd.to_datetime(df_visits[time_col], errors='coerce', format='%H:%M:%S').dt.time.astype(str)\n",
    "    \n",
    "    # Handling cases where time is NaT (resulting in 'NaT' string), replace it with a default '00:00:00'\n",
    "    df_visits[time_col + '_str'] = df_visits[time_col + '_str'].replace('NaT', '00:00:00')\n",
    "    \n",
    "    # Combine date and time strings into the desired datetime format\n",
    "    combined_str = df_visits[date_col + '_str'] + 'T' + df_visits[time_col + '_str'] + '.000+00:00'\n",
    "    \n",
    "    # Convert the combined string into datetime, using 'coerce' to handle any conversion errors (e.g., invalid dates/times)\n",
    "    df_visits[date_col + '_DATETIME'] = pd.to_datetime(combined_str, errors='coerce', utc=True)\n",
    "    \n"
   ]
  },
  {
   "cell_type": "code",
   "execution_count": null,
   "id": "0780d6d1-7405-4c50-ae28-7218cd7781a1",
   "metadata": {},
   "outputs": [],
   "source": [
    "df_visits.head()"
   ]
  },
  {
   "cell_type": "code",
   "execution_count": null,
   "id": "9b38fa04-3b2e-4375-a5ac-2dea11ac6e17",
   "metadata": {},
   "outputs": [],
   "source": [
    "df_visits.info()"
   ]
  },
  {
   "cell_type": "code",
   "execution_count": null,
   "id": "1c4c5a15-c15c-4696-a565-7b6c4718834e",
   "metadata": {},
   "outputs": [],
   "source": [
    "# Define the list of specific datetime columns to format\n",
    "datetime_columns = [\n",
    "    'ED_SERVICE_DATE_DATETIME',\n",
    "    'ED_TRIAGE_DATE_DATETIME',\n",
    "    'ED_ADMIT_DATE_DATETIME',\n",
    "    'ED_DISCHARGE_DATE_DATETIME',\n",
    "    'ED_ASSESSMENT_DATE_DATETIME',\n",
    "    'ED_ADMIT_DECISION_DATE_DATETIME',\n",
    "    'ED_DEPART_DATE_DATETIME'\n",
    "]\n",
    "\n",
    "# Iterate over the specified datetime columns\n",
    "for col in datetime_columns:\n",
    "    # Check if the column is not entirely null\n",
    "    if df_visits[col].notnull().any():\n",
    "        # Format the column and create a new one with the formatted datetime string\n",
    "        formatted_col_name = col + '_str'  # Naming the new column\n",
    "        df_visits[formatted_col_name] = df_visits[col].dt.strftime('%Y-%m-%dT%H:%M:%S.000') + '+00:00'\n"
   ]
  },
  {
   "cell_type": "code",
   "execution_count": null,
   "id": "2e464ce4-4729-40b9-9c5f-6ebb013b87f8",
   "metadata": {},
   "outputs": [],
   "source": [
    "df_visits.head()"
   ]
  },
  {
   "cell_type": "code",
   "execution_count": null,
   "id": "367f8b7f-e3f9-435b-aded-93903f2c5864",
   "metadata": {},
   "outputs": [],
   "source": [
    "df_visits.info()"
   ]
  },
  {
   "cell_type": "code",
   "execution_count": null,
   "id": "620df2b0-bea9-403b-be12-268659adf4bf",
   "metadata": {},
   "outputs": [],
   "source": [
    "columns_to_drop = [ 'ED_SERVICE_DATE', 'ED_SERVICE_TIME',\n",
    "    'ED_TRIAGE_DATE', 'ED_TRIAGE_TIME',\n",
    "    'ED_ADMIT_DATE', 'ED_ADMIT_TIME',\n",
    "    'ED_DISCHARGE_DATE', 'ED_DISCHARGE_TIME',\n",
    "    'ED_ASSESSMENT_DATE', 'ED_ASSESSMENT_TIME',\n",
    "    'ED_ADMIT_DECISION_DATE', 'ED_ADMIT_DECISION_TIME',\n",
    "    'ED_DEPART_DATE', 'ED_DEPART_TIME',\n",
    "    'ED_SERVICE_DATE_str', 'ED_SERVICE_TIME_str',\n",
    "    'ED_TRIAGE_DATE_str', 'ED_TRIAGE_TIME_str',\n",
    "    'ED_ADMIT_DATE_str', 'ED_ADMIT_TIME_str',\n",
    "    'ED_DISCHARGE_DATE_str', 'ED_DISCHARGE_TIME_str',\n",
    "    'ED_ASSESSMENT_DATE_str', 'ED_ASSESSMENT_TIME_str',\n",
    "    'ED_ADMIT_DECISION_DATE_str', 'ED_ADMIT_DECISION_TIME_str',\n",
    "    'ED_DEPART_DATE_str', 'ED_DEPART_TIME_str', 'ED_SERVICE_DATE_DATETIME',\n",
    "    'ED_TRIAGE_DATE_DATETIME',\n",
    "    'ED_ADMIT_DATE_DATETIME',\n",
    "    'ED_DISCHARGE_DATE_DATETIME',\n",
    "    'ED_ASSESSMENT_DATE_DATETIME',\n",
    "    'ED_ADMIT_DECISION_DATE_DATETIME',\n",
    "    'ED_DEPART_DATE_DATETIME'\n",
    "]\n",
    "\n",
    "# Drop the columns\n",
    "df_visits.drop(columns=columns_to_drop, inplace=True)\n",
    "df_visits.info()"
   ]
  },
  {
   "cell_type": "code",
   "execution_count": null,
   "id": "00d8bf33-38ad-43b6-93af-f765e6455ac1",
   "metadata": {},
   "outputs": [],
   "source": [
    "# Convert the formatted datetime string columns back to datetime for comparison\n",
    "df_visits['ED_SERVICE_DATE_DATETIME'] = pd.to_datetime(df_visits['ED_SERVICE_DATE_DATETIME_str'], errors='coerce', utc=True)\n",
    "df_visits['ED_TRIAGE_DATE_DATETIME'] = pd.to_datetime(df_visits['ED_TRIAGE_DATE_DATETIME_str'], errors='coerce', utc=True)\n",
    "\n",
    "# Check cases where service date-time is before triage date-time\n",
    "cases_service_before_triage = df_visits[df_visits['ED_SERVICE_DATE_DATETIME'] < df_visits['ED_TRIAGE_DATE_DATETIME']]\n",
    "\n",
    "# Count the number of such cases\n",
    "num_cases_service_before_triage = len(cases_service_before_triage)\n",
    "\n",
    "print(f\"Number of cases where service date-time is before triage date-time: {num_cases_service_before_triage}\")\n"
   ]
  },
  {
   "cell_type": "code",
   "execution_count": null,
   "id": "34804fa8-ef11-4cba-b5f9-6d548ffea902",
   "metadata": {},
   "outputs": [],
   "source": [
    "# Assuming ED_SERVICE_DATE_DATETIME and ED_TRIAGE_DATE_DATETIME are already in datetime format\n",
    "# Filter the DataFrame to keep only rows where service datetime is not before triage datetime\n",
    "df_visits_filtered = df_visits[df_visits['ED_SERVICE_DATE_DATETIME'] >= df_visits['ED_TRIAGE_DATE_DATETIME']]\n",
    "\n",
    "# df_visits_filtered now contains only the rows where service datetime is the same or after triage datetime\n",
    "df_visits_filtered.info()\n",
    "\n",
    "df_visits_filtered['FACILITY_NAME'] = df_visits_filtered['FACILITY_NAME'].str.replace(',', ' -')"
   ]
  },
  {
   "cell_type": "code",
   "execution_count": null,
   "id": "d6dfbaee-dcd2-46f4-8273-7e4ecb9ddd9b",
   "metadata": {},
   "outputs": [],
   "source": [
    "# Drop the '_str' columns if they exist\n",
    "columns_to_drop = ['ED_SERVICE_DATE_DATETIME', 'ED_TRIAGE_DATE_DATETIME']\n",
    "df_visits_filtered = df_visits_filtered.drop(columns=columns_to_drop, errors='ignore')\n",
    "\n",
    "df_visits_filtered.head()\n"
   ]
  },
  {
   "cell_type": "code",
   "execution_count": null,
   "id": "18a002f2-14e6-4929-b969-1a2de9523e9d",
   "metadata": {},
   "outputs": [],
   "source": [
    "# melt the table to correct format\n",
    "\n",
    "df_melted = df_visits_filtered\n",
    "df_visits_filtered.info()"
   ]
  },
  {
   "cell_type": "code",
   "execution_count": null,
   "id": "a862de44-ff9c-4936-ae49-1176cb6be9fd",
   "metadata": {},
   "outputs": [],
   "source": [
    "\n",
    "df_melted = pd.melt(df_melted, id_vars=['SID', 'SEX', 'DOB', 'DOD', 'ED_POSTAL_CODE', 'FACILITY_ID', 'FACILITY_NAME', 'VISIT_ID', 'VISIT_AGE', 'CTAS', 'REASON_FOR_VISIT', 'PRESENTING_COMPLAINT', 'DEPART_DISPOSITION_ID', 'DEPART_DISPOSITION_DESC'],  \n",
    "                 value_vars=['ED_SERVICE_DATE_DATETIME_str', 'ED_TRIAGE_DATE_DATETIME_str', 'ED_ADMIT_DATE_DATETIME_str', 'ED_DISCHARGE_DATE_DATETIME_str', 'ED_ASSESSMENT_DATE_DATETIME_str', 'ED_ADMIT_DECISION_DATE_DATETIME_str', 'ED_DEPART_DATE_DATETIME_str'], \n",
    "                 var_name='Activity', value_name='Start_Time',\n",
    "                 ignore_index=True)\n",
    "df_melted.sample(10)"
   ]
  },
  {
   "cell_type": "code",
   "execution_count": null,
   "id": "d372236b-4f24-4fb5-a27f-154e3ba4fb9a",
   "metadata": {
    "scrolled": true
   },
   "outputs": [],
   "source": [
    "# Step 1: Drop rows where Start_Time is NaN\n",
    "df_melt_clean = df_melted.dropna(subset=['Start_Time'])\n",
    "\n",
    "# Step 2: Sort by SID first, then by Start_Time\n",
    "df_melt_sorted = df_melt_clean.sort_values(by=['SID', 'Start_Time'])\n",
    "\n",
    "# Step 3: (Optional) Reset the index, dropping the old index\n",
    "df_melt_sorted = df_melt_sorted.reset_index(drop=True)\n",
    "\n",
    "df_melt_sorted.head()"
   ]
  },
  {
   "cell_type": "code",
   "execution_count": null,
   "id": "14c2dbaf-14a5-445d-9a06-1df7d77933bb",
   "metadata": {},
   "outputs": [],
   "source": [
    "df_melt_sorted['Activity'].unique()"
   ]
  },
  {
   "cell_type": "code",
   "execution_count": null,
   "id": "67f54c63-bc88-4051-9c5e-8d1fe0d1ff8c",
   "metadata": {},
   "outputs": [],
   "source": [
    "# Define the mapping of old values to new values\n",
    "value_mapping = {\n",
    "    'ED_TRIAGE_DATE_DATETIME_str': 'Triage',\n",
    "    'ED_ASSESSMENT_DATE_DATETIME_str': 'Assessment',\n",
    "    'ED_SERVICE_DATE_DATETIME_str': 'Providing service',\n",
    "    'ED_DEPART_DATE_DATETIME_str': 'Patient departed',\n",
    "    'ED_ADMIT_DECISION_DATE_DATETIME_str': 'Making admit decision',\n",
    "    'ED_ADMIT_DATE_DATETIME_str': 'Admitting patient',  # Assuming you want to rename this as well, to keep consistency\n",
    "    'ED_DISCHARGE_DATE_DATETIME_str': 'Patient discharge'\n",
    "}\n",
    "\n",
    "# Replace the values in the 'Activity' column using the mapping\n",
    "df_melt_sorted['Activity'] = df_melt_sorted['Activity'].replace(value_mapping)\n"
   ]
  },
  {
   "cell_type": "code",
   "execution_count": null,
   "id": "20f3386c-1d15-43f7-82e7-99d1dc5dc390",
   "metadata": {},
   "outputs": [],
   "source": [
    "df_melt_sorted.head()"
   ]
  },
  {
   "cell_type": "code",
   "execution_count": null,
   "id": "a625f566-d2e0-46ba-bfb5-925239829e46",
   "metadata": {},
   "outputs": [],
   "source": [
    "df_melt_sorted"
   ]
  },
  {
   "cell_type": "code",
   "execution_count": null,
   "id": "2c790d8c-34b2-46e0-9f53-db6f8867bb8e",
   "metadata": {},
   "outputs": [],
   "source": [
    "# Assuming df_melt_sorted has columns 'VISIT_ID', 'Activity', and 'Start_Time'\n",
    "\n",
    "# First, group by 'VISIT_ID' and then check for duplicated 'Start_Time' within each group\n",
    "# The `transform` function with `duplicated` marks all duplicates (both first and subsequent occurrences) as True within each group\n",
    "duplicates_mask = df_melt_sorted.groupby('VISIT_ID')['Start_Time'].transform(lambda x: x.duplicated(keep=False))\n",
    "\n",
    "# Filter the DataFrame to only include rows where the 'Start_Time' is duplicated within the same 'VISIT_ID'\n",
    "df_duplicates = df_melt_sorted[duplicates_mask]\n",
    "\n",
    "# df_duplicates now contains instances where 'Start_Time' equals the start time of a different activity during the same visit\n"
   ]
  },
  {
   "cell_type": "code",
   "execution_count": null,
   "id": "126482f3-4be1-42cc-abc8-a65d713e764a",
   "metadata": {},
   "outputs": [],
   "source": [
    "df_duplicates['FACILITY_NAME'].unique()"
   ]
  },
  {
   "cell_type": "code",
   "execution_count": null,
   "id": "1006dd5c-9b3d-4645-befc-7a2df975199c",
   "metadata": {
    "scrolled": true
   },
   "outputs": [],
   "source": [
    "# Save the filtered DataFrame to a CSV file\n",
    "\n",
    "df_melt_sorted.to_csv('df_melt_sorted_fin.csv', index=False)"
   ]
  },
  {
   "cell_type": "code",
   "execution_count": null,
   "id": "c7bc0973-9245-45d5-b406-5a97e96ac30d",
   "metadata": {
    "scrolled": true
   },
   "outputs": [],
   "source": [
    "df_melt_sorted.head()"
   ]
  },
  {
   "cell_type": "code",
   "execution_count": null,
   "id": "bab35db6-aada-4d31-abdb-f5fb333853db",
   "metadata": {},
   "outputs": [],
   "source": [
    "df_melt_sorted.info()"
   ]
  },
  {
   "cell_type": "code",
   "execution_count": null,
   "id": "9677bb43-d03b-4e55-908f-b46b962f0717",
   "metadata": {},
   "outputs": [],
   "source": [
    "filtered_df = df_visits[df_visits['VISIT_ID'] == \"VISIT2212009\"]\n",
    "\n",
    "\n",
    "print(filtered_df)"
   ]
  },
  {
   "cell_type": "code",
   "execution_count": null,
   "id": "2ab16e8f-dbff-482c-9bac-a8cba6b56e22",
   "metadata": {},
   "outputs": [],
   "source": []
  }
 ],
 "metadata": {
  "kernelspec": {
   "display_name": "Python 3 (ipykernel)",
   "language": "python",
   "name": "python3"
  },
  "language_info": {
   "codemirror_mode": {
    "name": "ipython",
    "version": 3
   },
   "file_extension": ".py",
   "mimetype": "text/x-python",
   "name": "python",
   "nbconvert_exporter": "python",
   "pygments_lexer": "ipython3",
   "version": "3.8.18"
  }
 },
 "nbformat": 4,
 "nbformat_minor": 5
}
